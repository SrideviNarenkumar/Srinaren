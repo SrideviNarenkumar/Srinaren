{
 "cells": [
  {
   "cell_type": "markdown",
   "id": "eb180257",
   "metadata": {
    "papermill": {
     "duration": 0.009731,
     "end_time": "2022-08-18T12:43:24.002657",
     "exception": false,
     "start_time": "2022-08-18T12:43:23.992926",
     "status": "completed"
    },
    "tags": []
   },
   "source": [
    "**This notebook is an exercise in the [Introduction to Machine Learning](https://www.kaggle.com/learn/intro-to-machine-learning) course.  You can reference the tutorial at [this link](https://www.kaggle.com/alexisbcook/machine-learning-competitions).**\n",
    "\n",
    "---\n"
   ]
  },
  {
   "cell_type": "markdown",
   "id": "6f55960d",
   "metadata": {
    "papermill": {
     "duration": 0.008123,
     "end_time": "2022-08-18T12:43:24.019842",
     "exception": false,
     "start_time": "2022-08-18T12:43:24.011719",
     "status": "completed"
    },
    "tags": []
   },
   "source": [
    "# Introduction\n",
    "\n",
    "In this exercise, you will create and submit predictions for a Kaggle competition. You can then improve your model (e.g. by adding features) to apply what you've learned and move up the leaderboard.\n",
    "\n",
    "Begin by running the code cell below to set up code checking and the filepaths for the dataset."
   ]
  },
  {
   "cell_type": "code",
   "execution_count": 1,
   "id": "e9f49030",
   "metadata": {
    "execution": {
     "iopub.execute_input": "2022-08-18T12:43:24.038771Z",
     "iopub.status.busy": "2022-08-18T12:43:24.038261Z",
     "iopub.status.idle": "2022-08-18T12:43:24.096737Z",
     "shell.execute_reply": "2022-08-18T12:43:24.095580Z"
    },
    "papermill": {
     "duration": 0.071116,
     "end_time": "2022-08-18T12:43:24.099588",
     "exception": false,
     "start_time": "2022-08-18T12:43:24.028472",
     "status": "completed"
    },
    "tags": []
   },
   "outputs": [],
   "source": [
    "# Set up code checking\n",
    "from learntools.core import binder\n",
    "binder.bind(globals())\n",
    "from learntools.machine_learning.ex7 import *\n",
    "\n",
    "# Set up filepaths\n",
    "import os\n",
    "if not os.path.exists(\"../input/train.csv\"):\n",
    "    os.symlink(\"../input/home-data-for-ml-course/train.csv\", \"../input/train.csv\")  \n",
    "    os.symlink(\"../input/home-data-for-ml-course/test.csv\", \"../input/test.csv\") "
   ]
  },
  {
   "cell_type": "markdown",
   "id": "37e6e427",
   "metadata": {
    "papermill": {
     "duration": 0.008182,
     "end_time": "2022-08-18T12:43:24.116466",
     "exception": false,
     "start_time": "2022-08-18T12:43:24.108284",
     "status": "completed"
    },
    "tags": []
   },
   "source": [
    "Here's some of the code you've written so far. Start by running it again."
   ]
  },
  {
   "cell_type": "code",
   "execution_count": 2,
   "id": "b04c8e30",
   "metadata": {
    "execution": {
     "iopub.execute_input": "2022-08-18T12:43:24.134911Z",
     "iopub.status.busy": "2022-08-18T12:43:24.134494Z",
     "iopub.status.idle": "2022-08-18T12:43:26.062081Z",
     "shell.execute_reply": "2022-08-18T12:43:26.061093Z"
    },
    "papermill": {
     "duration": 1.939926,
     "end_time": "2022-08-18T12:43:26.064739",
     "exception": false,
     "start_time": "2022-08-18T12:43:24.124813",
     "status": "completed"
    },
    "tags": []
   },
   "outputs": [
    {
     "name": "stdout",
     "output_type": "stream",
     "text": [
      "Validation MAE for Random Forest Model: 21,857\n"
     ]
    }
   ],
   "source": [
    "# Import helpful libraries\n",
    "import pandas as pd\n",
    "from sklearn.ensemble import RandomForestRegressor\n",
    "from sklearn.metrics import mean_absolute_error\n",
    "from sklearn.model_selection import train_test_split\n",
    "\n",
    "# Load the data, and separate the target\n",
    "iowa_file_path = '../input/train.csv'\n",
    "home_data = pd.read_csv(iowa_file_path)\n",
    "y = home_data.SalePrice\n",
    "\n",
    "# Create X (After completing the exercise, you can return to modify this line!)\n",
    "features = ['LotArea', 'YearBuilt', '1stFlrSF', '2ndFlrSF', 'FullBath', 'BedroomAbvGr', 'TotRmsAbvGrd']\n",
    "\n",
    "# Select columns corresponding to features, and preview the data\n",
    "X = home_data[features]\n",
    "X.head()\n",
    "\n",
    "# Split into validation and training data\n",
    "train_X, val_X, train_y, val_y = train_test_split(X, y, random_state=1)\n",
    "\n",
    "# Define a random forest model\n",
    "rf_model = RandomForestRegressor(random_state=1)\n",
    "rf_model.fit(train_X, train_y)\n",
    "rf_val_predictions = rf_model.predict(val_X)\n",
    "rf_val_mae = mean_absolute_error(rf_val_predictions, val_y)\n",
    "\n",
    "print(\"Validation MAE for Random Forest Model: {:,.0f}\".format(rf_val_mae))"
   ]
  },
  {
   "cell_type": "markdown",
   "id": "5ae5fbfa",
   "metadata": {
    "papermill": {
     "duration": 0.008057,
     "end_time": "2022-08-18T12:43:26.081386",
     "exception": false,
     "start_time": "2022-08-18T12:43:26.073329",
     "status": "completed"
    },
    "tags": []
   },
   "source": [
    "# Train a model for the competition\n",
    "\n",
    "The code cell above trains a Random Forest model on **`train_X`** and **`train_y`**.  \n",
    "\n",
    "Use the code cell below to build a Random Forest model and train it on all of **`X`** and **`y`**."
   ]
  },
  {
   "cell_type": "code",
   "execution_count": 3,
   "id": "4c7dd83b",
   "metadata": {
    "execution": {
     "iopub.execute_input": "2022-08-18T12:43:26.100540Z",
     "iopub.status.busy": "2022-08-18T12:43:26.099431Z",
     "iopub.status.idle": "2022-08-18T12:43:26.527510Z",
     "shell.execute_reply": "2022-08-18T12:43:26.526280Z"
    },
    "papermill": {
     "duration": 0.440473,
     "end_time": "2022-08-18T12:43:26.530217",
     "exception": false,
     "start_time": "2022-08-18T12:43:26.089744",
     "status": "completed"
    },
    "tags": []
   },
   "outputs": [
    {
     "data": {
      "text/plain": [
       "RandomForestRegressor()"
      ]
     },
     "execution_count": 3,
     "metadata": {},
     "output_type": "execute_result"
    }
   ],
   "source": [
    "# To improve accuracy, create a new Random Forest model which you will train on all training data\n",
    "rf_model_on_full_data = RandomForestRegressor()\n",
    "\n",
    "# fit rf_model_on_full_data on all data from the training data\n",
    "rf_model_on_full_data.fit(train_X, train_y)"
   ]
  },
  {
   "cell_type": "markdown",
   "id": "e28ada0e",
   "metadata": {
    "papermill": {
     "duration": 0.008107,
     "end_time": "2022-08-18T12:43:26.547772",
     "exception": false,
     "start_time": "2022-08-18T12:43:26.539665",
     "status": "completed"
    },
    "tags": []
   },
   "source": [
    "Now, read the file of \"test\" data, and apply your model to make predictions."
   ]
  },
  {
   "cell_type": "code",
   "execution_count": 4,
   "id": "e1d0ee05",
   "metadata": {
    "execution": {
     "iopub.execute_input": "2022-08-18T12:43:26.567602Z",
     "iopub.status.busy": "2022-08-18T12:43:26.566796Z",
     "iopub.status.idle": "2022-08-18T12:43:26.643823Z",
     "shell.execute_reply": "2022-08-18T12:43:26.642418Z"
    },
    "papermill": {
     "duration": 0.090061,
     "end_time": "2022-08-18T12:43:26.646680",
     "exception": false,
     "start_time": "2022-08-18T12:43:26.556619",
     "status": "completed"
    },
    "tags": []
   },
   "outputs": [],
   "source": [
    "# path to file you will use for predictions\n",
    "test_data_path = '../input/test.csv'\n",
    "\n",
    "# read test data file using pandas\n",
    "test_data = pd.read_csv('../input/test.csv')\n",
    "\n",
    "# create test_X which comes from test_data but includes only the columns you used for prediction.\n",
    "# The list of columns is stored in a variable called features\n",
    "\n",
    "test_X = test_data[features]\n",
    "\n",
    "# make predictions which we will submit. \n",
    "test_preds = rf_model_on_full_data.predict(test_X)"
   ]
  },
  {
   "cell_type": "code",
   "execution_count": 5,
   "id": "fa671467",
   "metadata": {
    "execution": {
     "iopub.execute_input": "2022-08-18T12:43:26.666351Z",
     "iopub.status.busy": "2022-08-18T12:43:26.665595Z",
     "iopub.status.idle": "2022-08-18T12:43:26.673354Z",
     "shell.execute_reply": "2022-08-18T12:43:26.672091Z"
    },
    "papermill": {
     "duration": 0.020779,
     "end_time": "2022-08-18T12:43:26.676170",
     "exception": false,
     "start_time": "2022-08-18T12:43:26.655391",
     "status": "completed"
    },
    "tags": []
   },
   "outputs": [
    {
     "data": {
      "text/plain": [
       "array([120664.  , 152551.  , 181666.  , ..., 153626.14, 140597.5 ,\n",
       "       229066.  ])"
      ]
     },
     "execution_count": 5,
     "metadata": {},
     "output_type": "execute_result"
    }
   ],
   "source": [
    "test_preds"
   ]
  },
  {
   "cell_type": "markdown",
   "id": "938b521b",
   "metadata": {
    "papermill": {
     "duration": 0.008445,
     "end_time": "2022-08-18T12:43:26.693397",
     "exception": false,
     "start_time": "2022-08-18T12:43:26.684952",
     "status": "completed"
    },
    "tags": []
   },
   "source": [
    "Before submitting, run a check to make sure your `test_preds` have the right format."
   ]
  },
  {
   "cell_type": "code",
   "execution_count": 6,
   "id": "c6c55376",
   "metadata": {
    "execution": {
     "iopub.execute_input": "2022-08-18T12:43:26.713336Z",
     "iopub.status.busy": "2022-08-18T12:43:26.712513Z",
     "iopub.status.idle": "2022-08-18T12:43:26.721761Z",
     "shell.execute_reply": "2022-08-18T12:43:26.720906Z"
    },
    "papermill": {
     "duration": 0.021824,
     "end_time": "2022-08-18T12:43:26.723974",
     "exception": false,
     "start_time": "2022-08-18T12:43:26.702150",
     "status": "completed"
    },
    "tags": []
   },
   "outputs": [
    {
     "data": {
      "application/javascript": [
       "parent.postMessage({\"jupyterEvent\": \"custom.exercise_interaction\", \"data\": {\"outcomeType\": 1, \"valueTowardsCompletion\": 1.0, \"interactionType\": 1, \"questionType\": 2, \"questionId\": \"1_CheckSubmittablePreds\", \"learnToolsVersion\": \"0.3.4\", \"failureMessage\": \"\", \"exceptionClass\": \"\", \"trace\": \"\"}}, \"*\")"
      ],
      "text/plain": [
       "<IPython.core.display.Javascript object>"
      ]
     },
     "metadata": {},
     "output_type": "display_data"
    },
    {
     "data": {
      "text/markdown": [
       "<span style=\"color:#33cc33\">Correct</span>"
      ],
      "text/plain": [
       "Correct"
      ]
     },
     "metadata": {},
     "output_type": "display_data"
    }
   ],
   "source": [
    "# Check your answer (To get credit for completing the exercise, you must get a \"Correct\" result!)\n",
    "step_1.check()\n",
    "# step_1.solution()"
   ]
  },
  {
   "cell_type": "code",
   "execution_count": 7,
   "id": "6a56cae3",
   "metadata": {
    "execution": {
     "iopub.execute_input": "2022-08-18T12:43:26.743878Z",
     "iopub.status.busy": "2022-08-18T12:43:26.743072Z",
     "iopub.status.idle": "2022-08-18T12:43:26.750172Z",
     "shell.execute_reply": "2022-08-18T12:43:26.749193Z"
    },
    "papermill": {
     "duration": 0.019796,
     "end_time": "2022-08-18T12:43:26.752443",
     "exception": false,
     "start_time": "2022-08-18T12:43:26.732647",
     "status": "completed"
    },
    "tags": []
   },
   "outputs": [
    {
     "data": {
      "text/plain": [
       "(1459,)"
      ]
     },
     "execution_count": 7,
     "metadata": {},
     "output_type": "execute_result"
    }
   ],
   "source": [
    "test_preds.shape"
   ]
  },
  {
   "cell_type": "markdown",
   "id": "b5dec5f1",
   "metadata": {
    "papermill": {
     "duration": 0.008662,
     "end_time": "2022-08-18T12:43:26.769960",
     "exception": false,
     "start_time": "2022-08-18T12:43:26.761298",
     "status": "completed"
    },
    "tags": []
   },
   "source": [
    "# Generate a submission\n",
    "\n",
    "Run the code cell below to generate a CSV file with your predictions that you can use to submit to the competition."
   ]
  },
  {
   "cell_type": "code",
   "execution_count": 8,
   "id": "245fe639",
   "metadata": {
    "execution": {
     "iopub.execute_input": "2022-08-18T12:43:26.789898Z",
     "iopub.status.busy": "2022-08-18T12:43:26.789121Z",
     "iopub.status.idle": "2022-08-18T12:43:26.801540Z",
     "shell.execute_reply": "2022-08-18T12:43:26.800611Z"
    },
    "papermill": {
     "duration": 0.025359,
     "end_time": "2022-08-18T12:43:26.804216",
     "exception": false,
     "start_time": "2022-08-18T12:43:26.778857",
     "status": "completed"
    },
    "tags": []
   },
   "outputs": [],
   "source": [
    "# Run the code to save predictions in the format used for competition scoring\n",
    "\n",
    "output = pd.DataFrame({'Id': test_data.Id,\n",
    "                       'SalePrice': test_preds})\n",
    "output.to_csv('submission.csv', index=False)"
   ]
  },
  {
   "cell_type": "markdown",
   "id": "9ee43c61",
   "metadata": {
    "papermill": {
     "duration": 0.0088,
     "end_time": "2022-08-18T12:43:26.822127",
     "exception": false,
     "start_time": "2022-08-18T12:43:26.813327",
     "status": "completed"
    },
    "tags": []
   },
   "source": [
    "# Submit to the competition\n",
    "\n",
    "To test your results, you'll need to join the competition (if you haven't already).  So open a new window by clicking on **[this link](https://www.kaggle.com/c/home-data-for-ml-course)**.  Then click on the **Join Competition** button.\n",
    "\n",
    "![join competition image](https://i.imgur.com/axBzctl.png)\n",
    "\n",
    "Next, follow the instructions below:\n",
    "1. Begin by clicking on the **Save Version** button in the top right corner of the window.  This will generate a pop-up window.  \n",
    "2. Ensure that the **Save and Run All** option is selected, and then click on the **Save** button.\n",
    "3. This generates a window in the bottom left corner of the notebook.  After it has finished running, click on the number to the right of the **Save Version** button.  This pulls up a list of versions on the right of the screen.  Click on the ellipsis **(...)** to the right of the most recent version, and select **Open in Viewer**.  This brings you into view mode of the same page. You will need to scroll down to get back to these instructions.\n",
    "4. Click on the **Output** tab on the right of the screen.  Then, click on the file you would like to submit, and click on the **Submit** button to submit your results to the leaderboard.\n",
    "\n",
    "You have now successfully submitted to the competition!\n",
    "\n",
    "If you want to keep working to improve your performance, select the **Edit** button in the top right of the screen. Then you can change your code and repeat the process. There's a lot of room to improve, and you will climb up the leaderboard as you work.\n",
    "\n",
    "\n",
    "# Continue Your Progress\n",
    "There are many ways to improve your model, and **experimenting is a great way to learn at this point.**\n",
    "\n",
    "The best way to improve your model is to add features.  To add more features to the data, revisit the first code cell, and change this line of code to include more column names:\n",
    "```python\n",
    "features = ['LotArea', 'YearBuilt', '1stFlrSF', '2ndFlrSF', 'FullBath', 'BedroomAbvGr', 'TotRmsAbvGrd']\n",
    "```\n",
    "\n",
    "Some features will cause errors because of issues like missing values or non-numeric data types.  Here is a complete list of potential columns that you might like to use, and that won't throw errors:\n",
    "- 'MSSubClass'\n",
    "- 'LotArea'\n",
    "- 'OverallQual' \n",
    "- 'OverallCond' \n",
    "- 'YearBuilt'\n",
    "- 'YearRemodAdd' \n",
    "- '1stFlrSF'\n",
    "- '2ndFlrSF' \n",
    "- 'LowQualFinSF' \n",
    "- 'GrLivArea'\n",
    "- 'FullBath'\n",
    "- 'HalfBath'\n",
    "- 'BedroomAbvGr' \n",
    "- 'KitchenAbvGr' \n",
    "- 'TotRmsAbvGrd' \n",
    "- 'Fireplaces' \n",
    "- 'WoodDeckSF' \n",
    "- 'OpenPorchSF'\n",
    "- 'EnclosedPorch' \n",
    "- '3SsnPorch' \n",
    "- 'ScreenPorch' \n",
    "- 'PoolArea' \n",
    "- 'MiscVal' \n",
    "- 'MoSold' \n",
    "- 'YrSold'\n",
    "\n",
    "Look at the list of columns and think about what might affect home prices.  To learn more about each of these features, take a look at the data description on the **[competition page](https://www.kaggle.com/c/home-data-for-ml-course/data)**.\n",
    "\n",
    "After updating the code cell above that defines the features, re-run all of the code cells to evaluate the model and generate a new submission file.  \n",
    "\n",
    "\n",
    "# What's next?\n",
    "\n",
    "As mentioned above, some of the features will throw an error if you try to use them to train your model.  The **[Intermediate Machine Learning](https://www.kaggle.com/learn/intermediate-machine-learning)** course will teach you how to handle these types of features. You will also learn to use **xgboost**, a technique giving even better accuracy than Random Forest.\n",
    "\n",
    "The **[Pandas](https://kaggle.com/Learn/Pandas)** course will give you the data manipulation skills to quickly go from conceptual idea to implementation in your data science projects. \n",
    "\n",
    "You are also ready for the **[Deep Learning](https://kaggle.com/Learn/intro-to-Deep-Learning)** course, where you will build models with better-than-human level performance at computer vision tasks."
   ]
  },
  {
   "cell_type": "code",
   "execution_count": 9,
   "id": "d28f1c8c",
   "metadata": {
    "execution": {
     "iopub.execute_input": "2022-08-18T12:43:26.843312Z",
     "iopub.status.busy": "2022-08-18T12:43:26.842159Z",
     "iopub.status.idle": "2022-08-18T12:43:26.872896Z",
     "shell.execute_reply": "2022-08-18T12:43:26.871970Z"
    },
    "papermill": {
     "duration": 0.043826,
     "end_time": "2022-08-18T12:43:26.875505",
     "exception": false,
     "start_time": "2022-08-18T12:43:26.831679",
     "status": "completed"
    },
    "tags": []
   },
   "outputs": [],
   "source": [
    "iowa_file_path = '../input/train.csv'\n",
    "home_data = pd.read_csv(iowa_file_path)\n",
    "y = home_data.SalePrice"
   ]
  },
  {
   "cell_type": "code",
   "execution_count": 10,
   "id": "99eea2ae",
   "metadata": {
    "execution": {
     "iopub.execute_input": "2022-08-18T12:43:26.895938Z",
     "iopub.status.busy": "2022-08-18T12:43:26.895161Z",
     "iopub.status.idle": "2022-08-18T12:43:26.899917Z",
     "shell.execute_reply": "2022-08-18T12:43:26.899143Z"
    },
    "papermill": {
     "duration": 0.017702,
     "end_time": "2022-08-18T12:43:26.902224",
     "exception": false,
     "start_time": "2022-08-18T12:43:26.884522",
     "status": "completed"
    },
    "tags": []
   },
   "outputs": [],
   "source": [
    "# Data Visualization from train & test data to understand the important features"
   ]
  },
  {
   "cell_type": "code",
   "execution_count": 11,
   "id": "c54f6a92",
   "metadata": {
    "execution": {
     "iopub.execute_input": "2022-08-18T12:43:26.922378Z",
     "iopub.status.busy": "2022-08-18T12:43:26.921595Z",
     "iopub.status.idle": "2022-08-18T12:43:27.110410Z",
     "shell.execute_reply": "2022-08-18T12:43:27.109176Z"
    },
    "papermill": {
     "duration": 0.202044,
     "end_time": "2022-08-18T12:43:27.113191",
     "exception": false,
     "start_time": "2022-08-18T12:43:26.911147",
     "status": "completed"
    },
    "tags": []
   },
   "outputs": [],
   "source": [
    "import matplotlib.pyplot as plt\n",
    "import seaborn as sns"
   ]
  },
  {
   "cell_type": "code",
   "execution_count": 12,
   "id": "8adc0ed5",
   "metadata": {
    "execution": {
     "iopub.execute_input": "2022-08-18T12:43:27.133038Z",
     "iopub.status.busy": "2022-08-18T12:43:27.132582Z",
     "iopub.status.idle": "2022-08-18T12:43:27.137563Z",
     "shell.execute_reply": "2022-08-18T12:43:27.136284Z"
    },
    "papermill": {
     "duration": 0.017968,
     "end_time": "2022-08-18T12:43:27.140313",
     "exception": false,
     "start_time": "2022-08-18T12:43:27.122345",
     "status": "completed"
    },
    "tags": []
   },
   "outputs": [],
   "source": [
    "# the below Distribution plot explains the saleprice range"
   ]
  },
  {
   "cell_type": "code",
   "execution_count": 13,
   "id": "f3ba45df",
   "metadata": {
    "execution": {
     "iopub.execute_input": "2022-08-18T12:43:27.161041Z",
     "iopub.status.busy": "2022-08-18T12:43:27.159991Z",
     "iopub.status.idle": "2022-08-18T12:43:27.596064Z",
     "shell.execute_reply": "2022-08-18T12:43:27.594893Z"
    },
    "papermill": {
     "duration": 0.4491,
     "end_time": "2022-08-18T12:43:27.598891",
     "exception": false,
     "start_time": "2022-08-18T12:43:27.149791",
     "status": "completed"
    },
    "tags": []
   },
   "outputs": [
    {
     "data": {
      "text/plain": [
       "<seaborn.axisgrid.FacetGrid at 0x7f455a01a990>"
      ]
     },
     "execution_count": 13,
     "metadata": {},
     "output_type": "execute_result"
    },
    {
     "data": {
      "text/plain": [
       "<Figure size 648x720 with 0 Axes>"
      ]
     },
     "metadata": {},
     "output_type": "display_data"
    },
    {
     "data": {
      "image/png": "[encoded data removed]",
      "text/plain": [
       "<Figure size 360x360 with 1 Axes>"
      ]
     },
     "metadata": {
      "needs_background": "light"
     },
     "output_type": "display_data"
    }
   ],
   "source": [
    "plt.figure(figsize=(9,10))\n",
    "sns.displot(home_data['SalePrice'], color='b',kind=\"hist\")\n"
   ]
  },
  {
   "cell_type": "code",
   "execution_count": 14,
   "id": "b77b8448",
   "metadata": {
    "execution": {
     "iopub.execute_input": "2022-08-18T12:43:27.619936Z",
     "iopub.status.busy": "2022-08-18T12:43:27.619235Z",
     "iopub.status.idle": "2022-08-18T12:43:27.624364Z",
     "shell.execute_reply": "2022-08-18T12:43:27.623511Z"
    },
    "papermill": {
     "duration": 0.018238,
     "end_time": "2022-08-18T12:43:27.626675",
     "exception": false,
     "start_time": "2022-08-18T12:43:27.608437",
     "status": "completed"
    },
    "tags": []
   },
   "outputs": [],
   "source": [
    "# Visualize the train data features using histogram"
   ]
  },
  {
   "cell_type": "code",
   "execution_count": 15,
   "id": "cca8c662",
   "metadata": {
    "execution": {
     "iopub.execute_input": "2022-08-18T12:43:27.647718Z",
     "iopub.status.busy": "2022-08-18T12:43:27.646876Z",
     "iopub.status.idle": "2022-08-18T12:43:34.678259Z",
     "shell.execute_reply": "2022-08-18T12:43:34.676995Z"
    },
    "papermill": {
     "duration": 7.044719,
     "end_time": "2022-08-18T12:43:34.680781",
     "exception": false,
     "start_time": "2022-08-18T12:43:27.636062",
     "status": "completed"
    },
    "tags": []
   },
   "outputs": [
    {
     "data": {
      "text/plain": [
       "array([[<AxesSubplot:title={'center':'Id'}>,\n",
       "        <AxesSubplot:title={'center':'MSSubClass'}>,\n",
       "        <AxesSubplot:title={'center':'LotFrontage'}>,\n",
       "        <AxesSubplot:title={'center':'LotArea'}>,\n",
       "        <AxesSubplot:title={'center':'OverallQual'}>,\n",
       "        <AxesSubplot:title={'center':'OverallCond'}>],\n",
       "       [<AxesSubplot:title={'center':'YearBuilt'}>,\n",
       "        <AxesSubplot:title={'center':'YearRemodAdd'}>,\n",
       "        <AxesSubplot:title={'center':'MasVnrArea'}>,\n",
       "        <AxesSubplot:title={'center':'BsmtFinSF1'}>,\n",
       "        <AxesSubplot:title={'center':'BsmtFinSF2'}>,\n",
       "        <AxesSubplot:title={'center':'BsmtUnfSF'}>],\n",
       "       [<AxesSubplot:title={'center':'TotalBsmtSF'}>,\n",
       "        <AxesSubplot:title={'center':'1stFlrSF'}>,\n",
       "        <AxesSubplot:title={'center':'2ndFlrSF'}>,\n",
       "        <AxesSubplot:title={'center':'LowQualFinSF'}>,\n",
       "        <AxesSubplot:title={'center':'GrLivArea'}>,\n",
       "        <AxesSubplot:title={'center':'BsmtFullBath'}>],\n",
       "       [<AxesSubplot:title={'center':'BsmtHalfBath'}>,\n",
       "        <AxesSubplot:title={'center':'FullBath'}>,\n",
       "        <AxesSubplot:title={'center':'HalfBath'}>,\n",
       "        <AxesSubplot:title={'center':'BedroomAbvGr'}>,\n",
       "        <AxesSubplot:title={'center':'KitchenAbvGr'}>,\n",
       "        <AxesSubplot:title={'center':'TotRmsAbvGrd'}>],\n",
       "       [<AxesSubplot:title={'center':'Fireplaces'}>,\n",
       "        <AxesSubplot:title={'center':'GarageYrBlt'}>,\n",
       "        <AxesSubplot:title={'center':'GarageCars'}>,\n",
       "        <AxesSubplot:title={'center':'GarageArea'}>,\n",
       "        <AxesSubplot:title={'center':'WoodDeckSF'}>,\n",
       "        <AxesSubplot:title={'center':'OpenPorchSF'}>],\n",
       "       [<AxesSubplot:title={'center':'EnclosedPorch'}>,\n",
       "        <AxesSubplot:title={'center':'3SsnPorch'}>,\n",
       "        <AxesSubplot:title={'center':'ScreenPorch'}>,\n",
       "        <AxesSubplot:title={'center':'PoolArea'}>,\n",
       "        <AxesSubplot:title={'center':'MiscVal'}>,\n",
       "        <AxesSubplot:title={'center':'MoSold'}>],\n",
       "       [<AxesSubplot:title={'center':'YrSold'}>,\n",
       "        <AxesSubplot:title={'center':'SalePrice'}>, <AxesSubplot:>,\n",
       "        <AxesSubplot:>, <AxesSubplot:>, <AxesSubplot:>]], dtype=object)"
      ]
     },
     "execution_count": 15,
     "metadata": {},
     "output_type": "execute_result"
    },
    {
     "data": {
      "image/png": "[encoded data removed]",
      "text/plain": [
       "<Figure size 1080x1440 with 42 Axes>"
      ]
     },
     "metadata": {
      "needs_background": "light"
     },
     "output_type": "display_data"
    }
   ],
   "source": [
    "home_data.hist(figsize=(15,20), bins=50,xlabelsize=10,ylabelsize=10)"
   ]
  },
  {
   "cell_type": "markdown",
   "id": "0e5eb702",
   "metadata": {
    "papermill": {
     "duration": 0.01067,
     "end_time": "2022-08-18T12:43:34.702840",
     "exception": false,
     "start_time": "2022-08-18T12:43:34.692170",
     "status": "completed"
    },
    "tags": []
   },
   "source": [
    "---\n",
    "\n",
    "\n",
    "\n",
    "\n",
    "*Have questions or comments? Visit the [course discussion forum](https://www.kaggle.com/learn/intro-to-machine-learning/discussion) to chat with other learners.*"
   ]
  },
  {
   "cell_type": "code",
   "execution_count": 16,
   "id": "d0c381f2",
   "metadata": {
    "execution": {
     "iopub.execute_input": "2022-08-18T12:43:34.728291Z",
     "iopub.status.busy": "2022-08-18T12:43:34.727055Z",
     "iopub.status.idle": "2022-08-18T12:43:35.073313Z",
     "shell.execute_reply": "2022-08-18T12:43:35.072072Z"
    },
    "papermill": {
     "duration": 0.361343,
     "end_time": "2022-08-18T12:43:35.076098",
     "exception": false,
     "start_time": "2022-08-18T12:43:34.714755",
     "status": "completed"
    },
    "tags": []
   },
   "outputs": [
    {
     "data": {
      "text/plain": [
       "<seaborn.axisgrid.FacetGrid at 0x7f455a850510>"
      ]
     },
     "execution_count": 16,
     "metadata": {},
     "output_type": "execute_result"
    },
    {
     "data": {
      "text/plain": [
       "<Figure size 648x720 with 0 Axes>"
      ]
     },
     "metadata": {},
     "output_type": "display_data"
    },
    {
     "data": {
      "image/png": "[encoded data removed]",
      "text/plain": [
       "<Figure size 360x360 with 1 Axes>"
      ]
     },
     "metadata": {
      "needs_background": "light"
     },
     "output_type": "display_data"
    }
   ],
   "source": [
    "plt.figure(figsize=(9,10))\n",
    "sns.displot(test_preds,color='red', kind='hist')"
   ]
  },
  {
   "cell_type": "code",
   "execution_count": 17,
   "id": "887b2fa6",
   "metadata": {
    "execution": {
     "iopub.execute_input": "2022-08-18T12:43:35.101104Z",
     "iopub.status.busy": "2022-08-18T12:43:35.100667Z",
     "iopub.status.idle": "2022-08-18T12:43:35.132089Z",
     "shell.execute_reply": "2022-08-18T12:43:35.130663Z"
    },
    "papermill": {
     "duration": 0.047214,
     "end_time": "2022-08-18T12:43:35.134948",
     "exception": false,
     "start_time": "2022-08-18T12:43:35.087734",
     "status": "completed"
    },
    "tags": []
   },
   "outputs": [],
   "source": [
    "# Load the data, and separate the target\n",
    "iowa_file_path = '../input/train.csv'\n",
    "home_data = pd.read_csv(iowa_file_path)\n",
    "y = home_data.SalePrice\n"
   ]
  },
  {
   "cell_type": "code",
   "execution_count": 18,
   "id": "fabd3784",
   "metadata": {
    "execution": {
     "iopub.execute_input": "2022-08-18T12:43:35.160316Z",
     "iopub.status.busy": "2022-08-18T12:43:35.159471Z",
     "iopub.status.idle": "2022-08-18T12:43:35.164936Z",
     "shell.execute_reply": "2022-08-18T12:43:35.164075Z"
    },
    "papermill": {
     "duration": 0.020933,
     "end_time": "2022-08-18T12:43:35.167505",
     "exception": false,
     "start_time": "2022-08-18T12:43:35.146572",
     "status": "completed"
    },
    "tags": []
   },
   "outputs": [],
   "source": [
    "features = ['OverallQual', 'YearRemodAdd','GrLivArea', 'BedroomAbvGr', 'TotRmsAbvGrd','OpenPorchSF']"
   ]
  },
  {
   "cell_type": "code",
   "execution_count": 19,
   "id": "0eb2a834",
   "metadata": {
    "execution": {
     "iopub.execute_input": "2022-08-18T12:43:35.193125Z",
     "iopub.status.busy": "2022-08-18T12:43:35.192299Z",
     "iopub.status.idle": "2022-08-18T12:43:35.209649Z",
     "shell.execute_reply": "2022-08-18T12:43:35.208478Z"
    },
    "papermill": {
     "duration": 0.032726,
     "end_time": "2022-08-18T12:43:35.211942",
     "exception": false,
     "start_time": "2022-08-18T12:43:35.179216",
     "status": "completed"
    },
    "tags": []
   },
   "outputs": [
    {
     "data": {
      "text/html": [
       "<div>\n",
       "<style scoped>\n",
       "    .dataframe tbody tr th:only-of-type {\n",
       "        vertical-align: middle;\n",
       "    }\n",
       "\n",
       "    .dataframe tbody tr th {\n",
       "        vertical-align: top;\n",
       "    }\n",
       "\n",
       "    .dataframe thead th {\n",
       "        text-align: right;\n",
       "    }\n",
       "</style>\n",
       "<table border=\"1\" class=\"dataframe\">\n",
       "  <thead>\n",
       "    <tr style=\"text-align: right;\">\n",
       "      <th></th>\n",
       "      <th>OverallQual</th>\n",
       "      <th>YearRemodAdd</th>\n",
       "      <th>GrLivArea</th>\n",
       "      <th>BedroomAbvGr</th>\n",
       "      <th>TotRmsAbvGrd</th>\n",
       "      <th>OpenPorchSF</th>\n",
       "    </tr>\n",
       "  </thead>\n",
       "  <tbody>\n",
       "    <tr>\n",
       "      <th>0</th>\n",
       "      <td>7</td>\n",
       "      <td>2003</td>\n",
       "      <td>1710</td>\n",
       "      <td>3</td>\n",
       "      <td>8</td>\n",
       "      <td>61</td>\n",
       "    </tr>\n",
       "    <tr>\n",
       "      <th>1</th>\n",
       "      <td>6</td>\n",
       "      <td>1976</td>\n",
       "      <td>1262</td>\n",
       "      <td>3</td>\n",
       "      <td>6</td>\n",
       "      <td>0</td>\n",
       "    </tr>\n",
       "    <tr>\n",
       "      <th>2</th>\n",
       "      <td>7</td>\n",
       "      <td>2002</td>\n",
       "      <td>1786</td>\n",
       "      <td>3</td>\n",
       "      <td>6</td>\n",
       "      <td>42</td>\n",
       "    </tr>\n",
       "    <tr>\n",
       "      <th>3</th>\n",
       "      <td>7</td>\n",
       "      <td>1970</td>\n",
       "      <td>1717</td>\n",
       "      <td>3</td>\n",
       "      <td>7</td>\n",
       "      <td>35</td>\n",
       "    </tr>\n",
       "    <tr>\n",
       "      <th>4</th>\n",
       "      <td>8</td>\n",
       "      <td>2000</td>\n",
       "      <td>2198</td>\n",
       "      <td>4</td>\n",
       "      <td>9</td>\n",
       "      <td>84</td>\n",
       "    </tr>\n",
       "  </tbody>\n",
       "</table>\n",
       "</div>"
      ],
      "text/plain": [
       "   OverallQual  YearRemodAdd  GrLivArea  BedroomAbvGr  TotRmsAbvGrd  \\\n",
       "0            7          2003       1710             3             8   \n",
       "1            6          1976       1262             3             6   \n",
       "2            7          2002       1786             3             6   \n",
       "3            7          1970       1717             3             7   \n",
       "4            8          2000       2198             4             9   \n",
       "\n",
       "   OpenPorchSF  \n",
       "0           61  \n",
       "1            0  \n",
       "2           42  \n",
       "3           35  \n",
       "4           84  "
      ]
     },
     "execution_count": 19,
     "metadata": {},
     "output_type": "execute_result"
    }
   ],
   "source": [
    "X = home_data[features]\n",
    "X.head()"
   ]
  },
  {
   "cell_type": "code",
   "execution_count": 20,
   "id": "e071573b",
   "metadata": {
    "execution": {
     "iopub.execute_input": "2022-08-18T12:43:35.237288Z",
     "iopub.status.busy": "2022-08-18T12:43:35.236843Z",
     "iopub.status.idle": "2022-08-18T12:43:35.249135Z",
     "shell.execute_reply": "2022-08-18T12:43:35.248237Z"
    },
    "papermill": {
     "duration": 0.027591,
     "end_time": "2022-08-18T12:43:35.251373",
     "exception": false,
     "start_time": "2022-08-18T12:43:35.223782",
     "status": "completed"
    },
    "tags": []
   },
   "outputs": [
    {
     "data": {
      "text/html": [
       "<div>\n",
       "<style scoped>\n",
       "    .dataframe tbody tr th:only-of-type {\n",
       "        vertical-align: middle;\n",
       "    }\n",
       "\n",
       "    .dataframe tbody tr th {\n",
       "        vertical-align: top;\n",
       "    }\n",
       "\n",
       "    .dataframe thead th {\n",
       "        text-align: right;\n",
       "    }\n",
       "</style>\n",
       "<table border=\"1\" class=\"dataframe\">\n",
       "  <thead>\n",
       "    <tr style=\"text-align: right;\">\n",
       "      <th></th>\n",
       "      <th>OverallQual</th>\n",
       "      <th>YearRemodAdd</th>\n",
       "      <th>GrLivArea</th>\n",
       "      <th>BedroomAbvGr</th>\n",
       "      <th>TotRmsAbvGrd</th>\n",
       "      <th>OpenPorchSF</th>\n",
       "    </tr>\n",
       "  </thead>\n",
       "  <tbody>\n",
       "    <tr>\n",
       "      <th>1071</th>\n",
       "      <td>6</td>\n",
       "      <td>1968</td>\n",
       "      <td>1556</td>\n",
       "      <td>4</td>\n",
       "      <td>8</td>\n",
       "      <td>0</td>\n",
       "    </tr>\n",
       "  </tbody>\n",
       "</table>\n",
       "</div>"
      ],
      "text/plain": [
       "      OverallQual  YearRemodAdd  GrLivArea  BedroomAbvGr  TotRmsAbvGrd  \\\n",
       "1071            6          1968       1556             4             8   \n",
       "\n",
       "      OpenPorchSF  \n",
       "1071            0  "
      ]
     },
     "execution_count": 20,
     "metadata": {},
     "output_type": "execute_result"
    }
   ],
   "source": [
    "X.sample()"
   ]
  },
  {
   "cell_type": "code",
   "execution_count": 21,
   "id": "054e8344",
   "metadata": {
    "execution": {
     "iopub.execute_input": "2022-08-18T12:43:35.278866Z",
     "iopub.status.busy": "2022-08-18T12:43:35.278136Z",
     "iopub.status.idle": "2022-08-18T12:43:35.293904Z",
     "shell.execute_reply": "2022-08-18T12:43:35.292920Z"
    },
    "papermill": {
     "duration": 0.032865,
     "end_time": "2022-08-18T12:43:35.296191",
     "exception": false,
     "start_time": "2022-08-18T12:43:35.263326",
     "status": "completed"
    },
    "tags": []
   },
   "outputs": [
    {
     "name": "stdout",
     "output_type": "stream",
     "text": [
      "<class 'pandas.core.frame.DataFrame'>\n",
      "RangeIndex: 1460 entries, 0 to 1459\n",
      "Data columns (total 6 columns):\n",
      " #   Column        Non-Null Count  Dtype\n",
      "---  ------        --------------  -----\n",
      " 0   OverallQual   1460 non-null   int64\n",
      " 1   YearRemodAdd  1460 non-null   int64\n",
      " 2   GrLivArea     1460 non-null   int64\n",
      " 3   BedroomAbvGr  1460 non-null   int64\n",
      " 4   TotRmsAbvGrd  1460 non-null   int64\n",
      " 5   OpenPorchSF   1460 non-null   int64\n",
      "dtypes: int64(6)\n",
      "memory usage: 68.6 KB\n"
     ]
    }
   ],
   "source": [
    "X.info()"
   ]
  },
  {
   "cell_type": "code",
   "execution_count": 22,
   "id": "fe6bbebc",
   "metadata": {
    "execution": {
     "iopub.execute_input": "2022-08-18T12:43:35.321982Z",
     "iopub.status.busy": "2022-08-18T12:43:35.321594Z",
     "iopub.status.idle": "2022-08-18T12:43:35.331350Z",
     "shell.execute_reply": "2022-08-18T12:43:35.330211Z"
    },
    "papermill": {
     "duration": 0.025749,
     "end_time": "2022-08-18T12:43:35.333872",
     "exception": false,
     "start_time": "2022-08-18T12:43:35.308123",
     "status": "completed"
    },
    "tags": []
   },
   "outputs": [
    {
     "data": {
      "text/plain": [
       "OverallQual     0\n",
       "YearRemodAdd    0\n",
       "GrLivArea       0\n",
       "BedroomAbvGr    0\n",
       "TotRmsAbvGrd    0\n",
       "OpenPorchSF     0\n",
       "dtype: int64"
      ]
     },
     "execution_count": 22,
     "metadata": {},
     "output_type": "execute_result"
    }
   ],
   "source": [
    "X.isnull().sum()"
   ]
  },
  {
   "cell_type": "code",
   "execution_count": 23,
   "id": "1423690f",
   "metadata": {
    "execution": {
     "iopub.execute_input": "2022-08-18T12:43:35.359882Z",
     "iopub.status.busy": "2022-08-18T12:43:35.359494Z",
     "iopub.status.idle": "2022-08-18T12:43:35.738554Z",
     "shell.execute_reply": "2022-08-18T12:43:35.736935Z"
    },
    "papermill": {
     "duration": 0.395783,
     "end_time": "2022-08-18T12:43:35.741774",
     "exception": false,
     "start_time": "2022-08-18T12:43:35.345991",
     "status": "completed"
    },
    "tags": []
   },
   "outputs": [
    {
     "name": "stdout",
     "output_type": "stream",
     "text": [
      "Validation MAE for Random Forest Model: 21,729\n"
     ]
    }
   ],
   "source": [
    "# Split into validation and training data\n",
    "train_X, val_X, train_y, val_y = train_test_split(X, y, random_state=1)\n",
    "\n",
    "# Define a random forest model\n",
    "rf_model = RandomForestRegressor(random_state=1)\n",
    "rf_model.fit(train_X, train_y)\n",
    "rf_val_predictions = rf_model.predict(val_X)\n",
    "rf_val_mae = mean_absolute_error(rf_val_predictions, val_y)\n",
    "\n",
    "print(\"Validation MAE for Random Forest Model: {:,.0f}\".format(rf_val_mae))"
   ]
  },
  {
   "cell_type": "code",
   "execution_count": 24,
   "id": "f245b9bf",
   "metadata": {
    "execution": {
     "iopub.execute_input": "2022-08-18T12:43:35.768617Z",
     "iopub.status.busy": "2022-08-18T12:43:35.767857Z",
     "iopub.status.idle": "2022-08-18T12:43:36.132534Z",
     "shell.execute_reply": "2022-08-18T12:43:36.131327Z"
    },
    "papermill": {
     "duration": 0.380739,
     "end_time": "2022-08-18T12:43:36.134910",
     "exception": false,
     "start_time": "2022-08-18T12:43:35.754171",
     "status": "completed"
    },
    "tags": []
   },
   "outputs": [
    {
     "data": {
      "text/plain": [
       "RandomForestRegressor()"
      ]
     },
     "execution_count": 24,
     "metadata": {},
     "output_type": "execute_result"
    }
   ],
   "source": [
    "# To improve accuracy, create a new Random Forest model which you will train on all training data\n",
    "rf_model_on_full_data = RandomForestRegressor()\n",
    "\n",
    "# fit rf_model_on_full_data on all data from the training data\n",
    "rf_model_on_full_data.fit(train_X, train_y)"
   ]
  },
  {
   "cell_type": "code",
   "execution_count": 25,
   "id": "5e112367",
   "metadata": {
    "execution": {
     "iopub.execute_input": "2022-08-18T12:43:36.161970Z",
     "iopub.status.busy": "2022-08-18T12:43:36.161243Z",
     "iopub.status.idle": "2022-08-18T12:43:36.223660Z",
     "shell.execute_reply": "2022-08-18T12:43:36.222409Z"
    },
    "papermill": {
     "duration": 0.079349,
     "end_time": "2022-08-18T12:43:36.226729",
     "exception": false,
     "start_time": "2022-08-18T12:43:36.147380",
     "status": "completed"
    },
    "tags": []
   },
   "outputs": [],
   "source": [
    "# path to file you will use for predictions\n",
    "test_data_path = '../input/test.csv'\n",
    "\n",
    "# read test data file using pandas\n",
    "test_data = pd.read_csv('../input/test.csv')\n",
    "\n",
    "# create test_X which comes from test_data but includes only the columns you used for prediction.\n",
    "# The list of columns is stored in a variable called features\n",
    "\n",
    "test_X = test_data[features]\n",
    "\n",
    "# make predictions which we will submit. \n",
    "test_preds = rf_model_on_full_data.predict(test_X)"
   ]
  },
  {
   "cell_type": "code",
   "execution_count": 26,
   "id": "d53ca75b",
   "metadata": {
    "execution": {
     "iopub.execute_input": "2022-08-18T12:43:36.254086Z",
     "iopub.status.busy": "2022-08-18T12:43:36.253084Z",
     "iopub.status.idle": "2022-08-18T12:43:36.260869Z",
     "shell.execute_reply": "2022-08-18T12:43:36.259849Z"
    },
    "papermill": {
     "duration": 0.023844,
     "end_time": "2022-08-18T12:43:36.263211",
     "exception": false,
     "start_time": "2022-08-18T12:43:36.239367",
     "status": "completed"
    },
    "tags": []
   },
   "outputs": [
    {
     "data": {
      "text/plain": [
       "array([113036.  , 150055.5 , 163825.42, ..., 124936.96, 129136.5 ,\n",
       "       223537.55])"
      ]
     },
     "execution_count": 26,
     "metadata": {},
     "output_type": "execute_result"
    }
   ],
   "source": [
    "test_preds"
   ]
  },
  {
   "cell_type": "code",
   "execution_count": 27,
   "id": "7e5e258b",
   "metadata": {
    "execution": {
     "iopub.execute_input": "2022-08-18T12:43:36.296331Z",
     "iopub.status.busy": "2022-08-18T12:43:36.295155Z",
     "iopub.status.idle": "2022-08-18T12:43:36.303656Z",
     "shell.execute_reply": "2022-08-18T12:43:36.302728Z"
    },
    "papermill": {
     "duration": 0.029873,
     "end_time": "2022-08-18T12:43:36.307033",
     "exception": false,
     "start_time": "2022-08-18T12:43:36.277160",
     "status": "completed"
    },
    "tags": []
   },
   "outputs": [
    {
     "data": {
      "text/plain": [
       "(1459,)"
      ]
     },
     "execution_count": 27,
     "metadata": {},
     "output_type": "execute_result"
    }
   ],
   "source": [
    "test_preds.shape"
   ]
  },
  {
   "cell_type": "code",
   "execution_count": 28,
   "id": "9182dcbd",
   "metadata": {
    "execution": {
     "iopub.execute_input": "2022-08-18T12:43:36.344650Z",
     "iopub.status.busy": "2022-08-18T12:43:36.343948Z",
     "iopub.status.idle": "2022-08-18T12:43:36.356531Z",
     "shell.execute_reply": "2022-08-18T12:43:36.355361Z"
    },
    "papermill": {
     "duration": 0.037299,
     "end_time": "2022-08-18T12:43:36.359045",
     "exception": false,
     "start_time": "2022-08-18T12:43:36.321746",
     "status": "completed"
    },
    "tags": []
   },
   "outputs": [],
   "source": [
    "# Run the code to save predictions in the format used for competition scoring\n",
    "\n",
    "output = pd.DataFrame({'Id': test_data.Id,\n",
    "                       'SalePrice': test_preds})\n",
    "output.to_csv('submission.csv', index=False)"
   ]
  }
 ],
 "metadata": {
  "kernelspec": {
   "display_name": "Python 3",
   "language": "python",
   "name": "python3"
  },
  "language_info": {
   "codemirror_mode": {
    "name": "ipython",
    "version": 3
   },
   "file_extension": ".py",
   "mimetype": "text/x-python",
   "name": "python",
   "nbconvert_exporter": "python",
   "pygments_lexer": "ipython3",
   "version": "3.7.12"
  },
  "papermill": {
   "default_parameters": {},
   "duration": 22.913545,
   "end_time": "2022-08-18T12:43:37.397180",
   "environment_variables": {},
   "exception": null,
   "input_path": "__notebook__.ipynb",
   "output_path": "__notebook__.ipynb",
   "parameters": {},
   "start_time": "2022-08-18T12:43:14.483635",
   "version": "2.3.4"
  }
 },
 "nbformat": 4,
 "nbformat_minor": 5
}
